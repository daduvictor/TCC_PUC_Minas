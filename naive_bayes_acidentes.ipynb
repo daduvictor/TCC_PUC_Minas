{
 "cells": [
  {
   "cell_type": "markdown",
   "id": "30bdcaa6",
   "metadata": {},
   "source": [
    "# Naïve Bayes\n",
    "\n",
    "Daniel Victor Silva de Oliveira\n",
    "\n",
    "---\n",
    "\n",
    "### Dataset: Acidentes 2017-2020 (atributos nominais)\n",
    "\n",
    "##### Descrição dos atributos:\n",
    "\n",
    "1. regiao {CO, N, NE, S, SE}\n",
    "2. mes {janeiro, fevereiro, março, abril, maio, junho, julho, agosto, setembro, outubro, novembro, dezembro}\n",
    "3. dia_semana {domingo, segunda-feira, terça-feira, quarta-feira, quinta-feira, sexta-feira, sábado}\n",
    "4. fase_dia {amanhecer, pleno dia, anoitecer, plena noite}\n",
    "5. faixa_horaria {01:00-04:00, 04:00-07:00, 07:00-10:00, 10:00-13:00, 13:00-16:00, 16:00-19:00, 19:00-22:00, 22:00-01:00}\n",
    "6. condicao_meteorologica {céu claro, chuva, garoa/chuvisco, granizo, neve, nevoeiro/neblina, nublado, sol, vento}\n",
    "7. tipo_acidente {atropelamento de animal, atropelamento de pedestre, capotamento, colisão com objeto, colisão frontal, colisão lateral, colisão transversal, colisão traseira, danos eventuais, derramamento de carga, engavetamento, incêndio, queda de ocupante de veículo, saída de leito carroçável, tombamento}\n",
    "8. causa_acidente {agressão externa, animais na pista, carga excessiva e/ou mal acondicionada, condutor dormindo, defeito na via, defeito no veículo, deficiência ou não acionamento do sistema de iluminação/sinalização do veículo, desobediência às normas de trânsito, falta de atenção, fenômenos da natureza, ingestão de álcool e/ou substâncias psicoativas, mal súbito, não guardar distância de segurança, objeto estático sobre o leito carroçável, pista escorregadia, restrição de visibilidade, ultrapassagem indevida, velocidade incompatível}\n",
    "9. tipo_pista {simples, dupla, múltipla}\n",
    "10. tracado_via {curva, desvio temporário, interseção de vias, ponte, reta, retorno regulamentado, rotatória, túnel, viaduto}\n",
    "11. uso_solo {rural, urbano}\n",
    "12. veiculos {=1, =2, =3, >=4}\n",
    "13. moto_similares {não, sim}\n",
    "14. caminhao_similares {não, sim}\n",
    "15. onibus_similares {não, sim}\n",
    "16. pessoas {=1, =2, =3, =4, =5, =6, >=7}\n",
    "17. classificacao_acidente {com vítimas, sem vítimas}"
   ]
  },
  {
   "cell_type": "markdown",
   "id": "dc20eaf0",
   "metadata": {},
   "source": [
    "#### Inicialização\n",
    "Importação dos pacotes necessários."
   ]
  },
  {
   "cell_type": "code",
   "execution_count": null,
   "id": "b49cb0ad",
   "metadata": {
    "scrolled": true
   },
   "outputs": [],
   "source": [
    "import pandas as pd\n",
    "from sklearn.feature_extraction import DictVectorizer\n",
    "from sklearn.preprocessing import LabelEncoder\n",
    "from sklearn.naive_bayes import BernoulliNB\n",
    "from sklearn.metrics import classification_report, confusion_matrix"
   ]
  },
  {
   "cell_type": "markdown",
   "id": "e199181f",
   "metadata": {},
   "source": [
    "#### Preparação da base de treinamento (entradas)\n",
    "Carregamento do dataset, conversão em um dicionário e transformação para um vetor binário."
   ]
  },
  {
   "cell_type": "code",
   "execution_count": null,
   "id": "e530ca2b",
   "metadata": {
    "scrolled": true
   },
   "outputs": [],
   "source": [
    "a1_nominal = pd.read_excel(\"acidentes17-19.xlsx\") \n",
    "print(\"\\nDimensões do dataset: {0}\".format(a1_nominal.shape))\n",
    "print(\"\\nCampos do dataset: {0}\".format(a1_nominal.keys()))\n",
    "print(\"\\n\", a1_nominal.describe())\n",
    "\n",
    "X_dict = a1_nominal.iloc[:,1:17].T.to_dict().values()\n",
    "vect = DictVectorizer(sparse=False)\n",
    "X_treino = vect.fit_transform(X_dict)\n",
    "print(\"\\nDimensões da base de treinamento (entradas): {0}\".format(X_treino.shape))"
   ]
  },
  {
   "cell_type": "markdown",
   "id": "4d6e2a97",
   "metadata": {},
   "source": [
    "#### Preparação da base de treinamento (saída)\n",
    "Conversão das classes em labels."
   ]
  },
  {
   "cell_type": "code",
   "execution_count": null,
   "id": "b2cad176",
   "metadata": {
    "scrolled": true
   },
   "outputs": [],
   "source": [
    "le = LabelEncoder()\n",
    "y_treino = le.fit_transform(a1_nominal.iloc[:,17])\n",
    "print(\"\\nLabels da base de treinamento (saída):\", y_treino)\n",
    "print(\"\\nDimensão da base de treinamento (saída):\", y_treino.shape[0])"
   ]
  },
  {
   "cell_type": "markdown",
   "id": "337882cc",
   "metadata": {},
   "source": [
    "#### Preparação da base de testes (entradas e saída)"
   ]
  },
  {
   "cell_type": "code",
   "execution_count": null,
   "id": "e785f3df",
   "metadata": {
    "scrolled": true
   },
   "outputs": [],
   "source": [
    "a2_nominal = pd.read_excel(\"acidentes20.xlsx\") \n",
    "print(\"\\nDimensões do dataset: {0}\".format(a2_nominal.shape))\n",
    "print(\"\\nCampos do dataset: {0}\".format(a2_nominal.keys()))\n",
    "print(\"\\n\", a2_nominal.describe())\n",
    "\n",
    "X2_dict = a2_nominal.iloc[:,1:17].T.to_dict().values()\n",
    "vect = DictVectorizer(sparse=False)\n",
    "X_teste = vect.fit_transform(X2_dict)\n",
    "print(\"\\nDimensões da base de testes (entradas): {0}\".format(X_teste.shape))\n",
    "\n",
    "y_teste = le.fit_transform(a2_nominal.iloc[:,17])\n",
    "print(\"\\nLabels da base de testes (saída):\", y_teste)\n",
    "print(\"\\nDimensão da base de testes (saída):\", y_teste.shape[0])"
   ]
  },
  {
   "cell_type": "markdown",
   "id": "896620d0",
   "metadata": {},
   "source": [
    "#### Treinamento e aplicação do modelo\n",
    "Predição da saída da base de testes.\n",
    "\n",
    "(algoritmo BernoulliNB: múltiplas variáveis de entrada binárias)"
   ]
  },
  {
   "cell_type": "code",
   "execution_count": null,
   "id": "ac24d94c",
   "metadata": {
    "scrolled": true
   },
   "outputs": [],
   "source": [
    "nbAcidentes = BernoulliNB(binarize=None)\n",
    "y_pred_nb = nbAcidentes.fit(X_treino, y_treino).predict(X_teste)"
   ]
  },
  {
   "cell_type": "markdown",
   "id": "742f93cf",
   "metadata": {},
   "source": [
    "#### Avaliação do modelo\n",
    "Medidas e matriz de confusão."
   ]
  },
  {
   "cell_type": "code",
   "execution_count": null,
   "id": "a487ac0a",
   "metadata": {
    "scrolled": true
   },
   "outputs": [],
   "source": [
    "print(\"\\nAcurácia na base de treinamento:\", nbAcidentes.score(X_treino, y_treino))\n",
    "print(\"Acurácia de predição:\", nbAcidentes.score(X_teste, y_teste))\n",
    "print(\"Número de erros de classificação: {0} de {1}\".format((y_teste != y_pred_nb).sum(), y_teste.shape[0]))\n",
    "print(\"\\n\", classification_report(y_teste, y_pred_nb, digits=4, target_names=[\"c/ vítimas\", \"s/ vítimas\"]))\n",
    "\n",
    "cnf_matrix = confusion_matrix(y_pred_nb, y_teste)\n",
    "cnf_table = pd.DataFrame(data=cnf_matrix, columns=[\"c/ vítimas\", \"s/ vítimas\"], index=[\"c/ vítimas (pred)\", \"s/ vítimas (pred)\"])\n",
    "print(cnf_table)"
   ]
  },
  {
   "cell_type": "markdown",
   "id": "7e16ec28",
   "metadata": {},
   "source": [
    "#### Gravação do resultado\n",
    "Transformação inversa dos labels preditos nas respectivas classes, junção com a base de testes e salvamento do dataset."
   ]
  },
  {
   "cell_type": "code",
   "execution_count": null,
   "id": "7e6ff83d",
   "metadata": {},
   "outputs": [],
   "source": [
    "nbclass_pred = le.inverse_transform(y_pred_nb)\n",
    "nbclass_pred = pd.DataFrame(nbclass_pred, columns=[\"classificacao_predita\"])\n",
    "nbclass_acidentes = pd.concat([a2_nominal, nbclass_pred], axis=1)\n",
    "nbclass_acidentes.to_csv(\"nbclass_acidentes20.csv\", encoding='iso-8859-1', index=False, sep=';', date_format='%d/%m/%Y')"
   ]
  }
 ],
 "metadata": {
  "kernelspec": {
   "display_name": "Python 3",
   "language": "python",
   "name": "python3"
  },
  "language_info": {
   "codemirror_mode": {
    "name": "ipython",
    "version": 3
   },
   "file_extension": ".py",
   "mimetype": "text/x-python",
   "name": "python",
   "nbconvert_exporter": "python",
   "pygments_lexer": "ipython3",
   "version": "3.8.8"
  }
 },
 "nbformat": 4,
 "nbformat_minor": 5
}
